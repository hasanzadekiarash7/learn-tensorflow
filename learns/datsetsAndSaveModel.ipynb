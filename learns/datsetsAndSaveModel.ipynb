{
  "cells": [
    {
      "cell_type": "markdown",
      "metadata": {
        "id": "view-in-github",
        "colab_type": "text"
      },
      "source": [
        "<a href=\"https://colab.research.google.com/github/hasanzadekiarash7/learn-tensorflow/blob/main/learns/datsetsAndSaveModel.ipynb\" target=\"_parent\"><img src=\"https://colab.research.google.com/assets/colab-badge.svg\" alt=\"Open In Colab\"/></a>"
      ]
    },
    {
      "cell_type": "code",
      "source": [
        "import tensorflow as tf\n",
        "import pandas as pd\n",
        "import numpy as np\n",
        "\n",
        "df = pd.DataFrame({\n",
        "    'feature1': [1.0, 3.0, 5.0, 7.0],\n",
        "    'feature2': [2.0, 4.0, 6.0, 8.0],\n",
        "    'label': [0, 1, 0, 1]\n",
        "})\n",
        "print(df)\n",
        "\n",
        "features = df[['feature1', 'feature2']].values\n",
        "labels = df['label'].values\n",
        "\n",
        "dataset = tf.data.Dataset.from_tensor_slices((features, labels))\n",
        "dataset = dataset.shuffle(buffer_size=4).batch(2).prefetch(tf.data.AUTOTUNE)\n",
        "print()\n",
        "print(\"dataframes with datasets(suffled, bathced and prefetched)\")\n",
        "print()\n",
        "for batch_features, batch_labels in dataset:\n",
        "    batch_df = pd.DataFrame(batch_features.numpy(), columns=['feature1', 'feature2'])\n",
        "    batch_df['label'] = batch_labels.numpy()\n",
        "    print(batch_df)"
      ],
      "metadata": {
        "colab": {
          "base_uri": "https://localhost:8080/"
        },
        "id": "ysv9w6p91YZU",
        "outputId": "49d3fa62-3509-44c5-b49e-d2b308770eb2"
      },
      "execution_count": 55,
      "outputs": [
        {
          "output_type": "stream",
          "name": "stdout",
          "text": [
            "   feature1  feature2  label\n",
            "0       1.0       2.0      0\n",
            "1       3.0       4.0      1\n",
            "2       5.0       6.0      0\n",
            "3       7.0       8.0      1\n",
            "\n",
            "dataframes with datasets(suffled, bathced and prefetched)\n",
            "\n",
            "   feature1  feature2  label\n",
            "0       3.0       4.0      1\n",
            "1       7.0       8.0      1\n",
            "   feature1  feature2  label\n",
            "0       1.0       2.0      0\n",
            "1       5.0       6.0      0\n"
          ]
        }
      ]
    },
    {
      "cell_type": "code",
      "source": [
        "# for saving models use only this code lines:\n",
        "#model.save('my_model')\n",
        "#model = tf.keras.load_model('my_model')"
      ],
      "metadata": {
        "id": "EWmmM5ZiMiHQ"
      },
      "execution_count": null,
      "outputs": []
    }
  ],
  "metadata": {
    "colab": {
      "name": "beginner.ipynb",
      "provenance": [],
      "include_colab_link": true
    },
    "kernelspec": {
      "display_name": "Python 3",
      "name": "python3"
    }
  },
  "nbformat": 4,
  "nbformat_minor": 0
}