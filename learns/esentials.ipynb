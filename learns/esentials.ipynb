{
  "cells": [
    {
      "cell_type": "markdown",
      "metadata": {
        "id": "view-in-github",
        "colab_type": "text"
      },
      "source": [
        "<a href=\"https://colab.research.google.com/github/hasanzadekiarash7/learn-tensorflow/blob/main/learns/esentials.ipynb\" target=\"_parent\"><img src=\"https://colab.research.google.com/assets/colab-badge.svg\" alt=\"Open In Colab\"/></a>"
      ]
    },
    {
      "cell_type": "code",
      "source": [
        "#how to make arrays with tf(tensorflow)\n",
        "import tensorflow as tf"
      ],
      "metadata": {
        "id": "ysv9w6p91YZU"
      },
      "execution_count": 24,
      "outputs": []
    },
    {
      "cell_type": "code",
      "source": [
        "# first make to array type(simple and matrix)\n",
        "\n",
        "# simple\n",
        "tfarr = tf.constant([1,2,3])\n",
        "tfarr2 = tf.constant([3,2,1])\n",
        "# matrix\n",
        "tfarrmatrix = tf.constant([[1,2,3],[4,5,6],[7,8,9]])\n",
        "tfarrmatrix2 = tf.constant([[3,2,1],[6,5,4],[9,8,7]])"
      ],
      "metadata": {
        "id": "SqKoM8Jj1q1I"
      },
      "execution_count": 25,
      "outputs": []
    },
    {
      "cell_type": "code",
      "source": [
        "# make simple operations (+ - * / %)\n",
        "sumArr = tfarr + tfarr2\n",
        "minusArr = tfarr - tfarr2\n",
        "multiplationArr = tfarr * tfarr2\n",
        "divisionArr = tfarr / tfarr2\n",
        "remainingArr = tfarr / tfarr2\n",
        "# for shoing more perfect. at the end use .numpy()\n",
        "print(sumArr.numpy())\n",
        "print(minusArr.numpy())\n",
        "print(multiplationArr.numpy())\n",
        "print(divisionArr.numpy())\n",
        "print(remainingArr.numpy())"
      ],
      "metadata": {
        "colab": {
          "base_uri": "https://localhost:8080/"
        },
        "id": "36nhV_882Iey",
        "outputId": "4cefcaef-3056-4ecb-f20d-fe848b5ed738"
      },
      "execution_count": 26,
      "outputs": [
        {
          "output_type": "stream",
          "name": "stdout",
          "text": [
            "[4 4 4]\n",
            "[-2  0  2]\n",
            "[3 4 3]\n",
            "[0.33333333 1.         3.        ]\n",
            "[0.33333333 1.         3.        ]\n"
          ]
        }
      ]
    },
    {
      "cell_type": "code",
      "source": [
        "# make matrix multiplation with matmul tf method(tf.matmul())\n",
        "mat_mul = tf.matmul(tfarrmatrix, tfarrmatrix2)\n",
        "print(mat_mul.numpy())"
      ],
      "metadata": {
        "colab": {
          "base_uri": "https://localhost:8080/"
        },
        "id": "TAukmg4M24VJ",
        "outputId": "b8969df3-f733-4eaa-b680-ada46aa9a029"
      },
      "execution_count": 27,
      "outputs": [
        {
          "output_type": "stream",
          "name": "stdout",
          "text": [
            "[[ 42  36  30]\n",
            " [ 96  81  66]\n",
            " [150 126 102]]\n"
          ]
        }
      ]
    }
  ],
  "metadata": {
    "colab": {
      "name": "beginner.ipynb",
      "provenance": [],
      "include_colab_link": true
    },
    "kernelspec": {
      "display_name": "Python 3",
      "name": "python3"
    }
  },
  "nbformat": 4,
  "nbformat_minor": 0
}